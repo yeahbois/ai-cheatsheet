{
 "cells": [
  {
   "cell_type": "markdown",
   "id": "0d1bfca3",
   "metadata": {},
   "source": [
    "# MACHINE LEARNING KLASIK (SUPERVISED & UNSUPERVISED) ##"
   ]
  },
  {
   "cell_type": "markdown",
   "id": "70f07822",
   "metadata": {},
   "source": [
    "This cheat sheet covers classic machine learning algorithms using the Scikit-learn library.\n",
    "It includes runnable examples for both supervised and unsupervised learning tasks."
   ]
  },
  {
   "cell_type": "code",
   "execution_count": null,
   "id": "630ce748",
   "metadata": {},
   "outputs": [],
   "source": [
    "import numpy as np\n",
    "import matplotlib.pyplot as plt\n",
    "from sklearn.model_selection import train_test_split, cross_val_score, GridSearchCV\n",
    "from sklearn.metrics import accuracy_score, confusion_matrix, ConfusionMatrixDisplay, classification_report, mean_squared_error"
   ]
  },
  {
   "cell_type": "markdown",
   "id": "719d053d",
   "metadata": {},
   "source": [
    "==================================\n",
    "1. Supervised Learning\n",
    "==================================\n",
    "Supervised learning involves learning from data that is labeled.\n",
    "- Regression: Predicting a continuous value (e.g., price, temperature).\n",
    "- Classification: Predicting a discrete label (e.g., 'cat' or 'dog')."
   ]
  },
  {
   "cell_type": "code",
   "execution_count": null,
   "id": "b06323f5",
   "metadata": {},
   "outputs": [],
   "source": [
    "# --- REGRESSION EXAMPLE ---\n",
    "print(\"# --- Supervised Learning: Regression ---\")\n",
    "from sklearn.linear_model import LinearRegression"
   ]
  },
  {
   "cell_type": "code",
   "execution_count": null,
   "id": "9930d6af",
   "metadata": {},
   "outputs": [],
   "source": [
    "# Generate sample data for regression\n",
    "# Let's predict a value 'y' based on a feature 'X'\n",
    "X_reg = np.array([[1], [2], [3], [4], [5], [6]]) # Feature\n",
    "y_reg = np.array([1.5, 3.8, 6.5, 8.0, 10.8, 13.2]) # Target value"
   ]
  },
  {
   "cell_type": "code",
   "execution_count": null,
   "id": "74ecd161",
   "metadata": {},
   "outputs": [],
   "source": [
    "# Create and train the model\n",
    "# LinearRegression finds the best-fitting line through the data.\n",
    "reg_model = LinearRegression()\n",
    "reg_model.fit(X_reg, y_reg)"
   ]
  },
  {
   "cell_type": "code",
   "execution_count": null,
   "id": "880eecc8",
   "metadata": {},
   "outputs": [],
   "source": [
    "# Make predictions\n",
    "new_X = np.array([[7]])\n",
    "prediction = reg_model.predict(new_X)\n",
    "print(f\"Prediction for X=7: {prediction[0]:.2f}\")"
   ]
  },
  {
   "cell_type": "code",
   "execution_count": null,
   "id": "4a8ca627",
   "metadata": {
    "lines_to_next_cell": 2
   },
   "outputs": [],
   "source": [
    "# Evaluate the model\n",
    "# Mean Squared Error (MSE) measures the average squared difference between actual and predicted values.\n",
    "y_pred = reg_model.predict(X_reg)\n",
    "mse = mean_squared_error(y_reg, y_pred)\n",
    "print(f\"Mean Squared Error on training data: {mse:.2f}\\n\")"
   ]
  },
  {
   "cell_type": "code",
   "execution_count": null,
   "id": "844e3826",
   "metadata": {},
   "outputs": [],
   "source": [
    "# --- CLASSIFICATION EXAMPLE ---\n",
    "print(\"# --- Supervised Learning: Classification ---\")\n",
    "from sklearn.tree import DecisionTreeClassifier\n",
    "from sklearn.datasets import load_iris"
   ]
  },
  {
   "cell_type": "code",
   "execution_count": null,
   "id": "6ce154b1",
   "metadata": {},
   "outputs": [],
   "source": [
    "# Load a sample dataset (Iris dataset)\n",
    "# This dataset contains 3 classes of iris plants with 4 features.\n",
    "iris = load_iris()\n",
    "X_cls = iris.data\n",
    "y_cls = iris.target"
   ]
  },
  {
   "cell_type": "code",
   "execution_count": null,
   "id": "10371f09",
   "metadata": {},
   "outputs": [],
   "source": [
    "# Split data into training and testing sets\n",
    "# This is crucial to evaluate how well the model generalizes to new, unseen data.\n",
    "X_train, X_test, y_train, y_test = train_test_split(X_cls, y_cls, test_size=0.3, random_state=42)"
   ]
  },
  {
   "cell_type": "code",
   "execution_count": null,
   "id": "eb4b084a",
   "metadata": {},
   "outputs": [],
   "source": [
    "# Create and train the model\n",
    "# A Decision Tree makes predictions by learning a series of if/else questions about the features.\n",
    "cls_model = DecisionTreeClassifier(max_depth=3, random_state=42)\n",
    "cls_model.fit(X_train, y_train)"
   ]
  },
  {
   "cell_type": "code",
   "execution_count": null,
   "id": "d6c18efb",
   "metadata": {},
   "outputs": [],
   "source": [
    "# Make predictions on the test set\n",
    "y_pred_cls = cls_model.predict(X_test)"
   ]
  },
  {
   "cell_type": "code",
   "execution_count": null,
   "id": "a19ff225",
   "metadata": {},
   "outputs": [],
   "source": [
    "# Evaluate the model\n",
    "# Accuracy is the proportion of correct predictions.\n",
    "accuracy = accuracy_score(y_test, y_pred_cls)\n",
    "print(f\"Classification Accuracy: {accuracy * 100:.2f}%\")"
   ]
  },
  {
   "cell_type": "code",
   "execution_count": null,
   "id": "86354c09",
   "metadata": {},
   "outputs": [],
   "source": [
    "# A Confusion Matrix gives a detailed breakdown of correct and incorrect predictions for each class.\n",
    "cm = confusion_matrix(y_test, y_pred_cls)\n",
    "print(f\"Confusion Matrix:\\n{cm}\")"
   ]
  },
  {
   "cell_type": "code",
   "execution_count": null,
   "id": "1705af06",
   "metadata": {
    "lines_to_next_cell": 2
   },
   "outputs": [],
   "source": [
    "# Classification Report provides other key metrics like precision, recall, and F1-score.\n",
    "report = classification_report(y_test, y_pred_cls, target_names=iris.target_names)\n",
    "print(f\"Classification Report:\\n{report}\\n\")"
   ]
  },
  {
   "cell_type": "markdown",
   "id": "cd9bad14",
   "metadata": {},
   "source": [
    "==================================\n",
    "2. Unsupervised Learning\n",
    "==================================\n",
    "Unsupervised learning involves finding patterns in unlabeled data.\n",
    "- Clustering: Grouping similar data points together.\n",
    "- Dimensionality Reduction: Reducing the number of features while retaining important information."
   ]
  },
  {
   "cell_type": "code",
   "execution_count": null,
   "id": "cd64d880",
   "metadata": {},
   "outputs": [],
   "source": [
    "# --- CLUSTERING EXAMPLE (K-MEANS) ---\n",
    "print(\"# --- Unsupervised Learning: Clustering (K-Means) ---\")\n",
    "from sklearn.cluster import KMeans\n",
    "from sklearn.datasets import make_blobs"
   ]
  },
  {
   "cell_type": "code",
   "execution_count": null,
   "id": "f57f8897",
   "metadata": {},
   "outputs": [],
   "source": [
    "# Generate sample data for clustering\n",
    "# make_blobs creates isotropic Gaussian blobs for clustering.\n",
    "X_cluster, _ = make_blobs(n_samples=300, centers=4, cluster_std=0.70, random_state=0)"
   ]
  },
  {
   "cell_type": "code",
   "execution_count": null,
   "id": "97779432",
   "metadata": {},
   "outputs": [],
   "source": [
    "# Create and train the model\n",
    "# KMeans aims to partition n observations into k clusters in which each observation belongs to the cluster with the nearest mean.\n",
    "kmeans = KMeans(n_clusters=4, random_state=42, n_init=10)\n",
    "kmeans.fit(X_cluster)"
   ]
  },
  {
   "cell_type": "code",
   "execution_count": null,
   "id": "b68627f3",
   "metadata": {},
   "outputs": [],
   "source": [
    "# Get cluster labels and centers\n",
    "labels = kmeans.labels_\n",
    "centers = kmeans.cluster_centers_\n",
    "print(f\"First 10 cluster labels: {labels[:10]}\")\n",
    "print(f\"Cluster centers:\\n{centers}\\n\")"
   ]
  },
  {
   "cell_type": "code",
   "execution_count": null,
   "id": "beb72e9e",
   "metadata": {
    "lines_to_next_cell": 2
   },
   "outputs": [],
   "source": [
    "# Visualize the results\n",
    "plt.figure(figsize=(8, 5))\n",
    "plt.scatter(X_cluster[:, 0], X_cluster[:, 1], c=labels, s=50, cmap='viridis')\n",
    "plt.scatter(centers[:, 0], centers[:, 1], c='red', s=200, alpha=0.75, marker='X')\n",
    "plt.title(\"K-Means Clustering Result\")\n",
    "plt.savefig('kmeans_clustering.png')\n",
    "print(\"K-Means clustering plot saved to kmeans_clustering.png\\n\")\n",
    "plt.close()"
   ]
  },
  {
   "cell_type": "code",
   "execution_count": null,
   "id": "320c35e8",
   "metadata": {},
   "outputs": [],
   "source": [
    "# --- DIMENSIONALITY REDUCTION EXAMPLE (PCA) ---\n",
    "print(\"# --- Unsupervised Learning: Dimensionality Reduction (PCA) ---\")\n",
    "from sklearn.decomposition import PCA"
   ]
  },
  {
   "cell_type": "markdown",
   "id": "55ccb940",
   "metadata": {},
   "source": [
    "Use the Iris dataset again (it has 4 dimensions)\n",
    "PCA (Principal Component Analysis) is used to reduce the number of dimensions (features) in a dataset.\n",
    "It identifies the most important directions (principal components) in the data."
   ]
  },
  {
   "cell_type": "code",
   "execution_count": null,
   "id": "d36afac3",
   "metadata": {},
   "outputs": [],
   "source": [
    "# Create a PCA model to reduce the data to 2 dimensions\n",
    "pca = PCA(n_components=2)\n",
    "X_pca = pca.fit_transform(X_cls)"
   ]
  },
  {
   "cell_type": "code",
   "execution_count": null,
   "id": "dcb64c48",
   "metadata": {},
   "outputs": [],
   "source": [
    "print(f\"Original shape: {X_cls.shape}\")\n",
    "print(f\"Shape after PCA: {X_pca.shape}\\n\")"
   ]
  },
  {
   "cell_type": "code",
   "execution_count": null,
   "id": "3f251c9b",
   "metadata": {
    "lines_to_next_cell": 2
   },
   "outputs": [],
   "source": [
    "# Visualize the PCA-transformed data\n",
    "plt.figure(figsize=(8, 5))\n",
    "plt.scatter(X_pca[:, 0], X_pca[:, 1], c=y_cls, cmap='viridis', edgecolor='k', s=70)\n",
    "plt.xlabel(\"First Principal Component\")\n",
    "plt.ylabel(\"Second Principal Component\")\n",
    "plt.title(\"PCA of Iris Dataset\")\n",
    "plt.savefig('pca_reduction.png')\n",
    "print(\"PCA plot saved to pca_reduction.png\\n\")\n",
    "plt.close()"
   ]
  },
  {
   "cell_type": "code",
   "execution_count": null,
   "id": "cbb1efb6",
   "metadata": {},
   "outputs": [],
   "source": [
    "#==================================\n",
    "# 3. Model Evaluation & Tuning\n",
    "#==================================\n",
    "print(\"# --- Model Evaluation & Tuning ---\")\n",
    "# Using the classification task from before"
   ]
  },
  {
   "cell_type": "code",
   "execution_count": null,
   "id": "4871513d",
   "metadata": {
    "lines_to_next_cell": 2
   },
   "outputs": [],
   "source": [
    "# --- Cross-Validation ---\n",
    "# A technique to evaluate a model by splitting data into several folds and training/testing on different combinations.\n",
    "# This gives a more robust estimate of model performance.\n",
    "scores = cross_val_score(cls_model, X_cls, y_cls, cv=5) # 5-fold cross-validation\n",
    "print(f\"Cross-Validation Accuracy Scores: {scores}\")\n",
    "print(f\"Average CV Accuracy: {scores.mean():.2f} (+/- {scores.std() * 2:.2f})\\n\")"
   ]
  },
  {
   "cell_type": "code",
   "execution_count": null,
   "id": "0b64341c",
   "metadata": {},
   "outputs": [],
   "source": [
    "# --- Hyperparameter Tuning (Grid Search) ---\n",
    "# Most models have parameters (hyperparameters) that can be tuned.\n",
    "# Grid Search systematically tries all combinations of a given set of hyperparameters.\n",
    "param_grid = {'max_depth': [2, 3, 4, 5], 'min_samples_leaf': [1, 2, 3]}"
   ]
  },
  {
   "cell_type": "code",
   "execution_count": null,
   "id": "71c4f323",
   "metadata": {},
   "outputs": [],
   "source": [
    "# n_jobs=-1 uses all available CPU cores\n",
    "grid_search = GridSearchCV(DecisionTreeClassifier(random_state=42), param_grid, cv=5, n_jobs=-1)\n",
    "grid_search.fit(X_train, y_train)"
   ]
  },
  {
   "cell_type": "code",
   "execution_count": null,
   "id": "ad4dfaeb",
   "metadata": {},
   "outputs": [],
   "source": [
    "print(f\"Best parameters found by Grid Search: {grid_search.best_params_}\")\n",
    "print(f\"Best score achieved: {grid_search.best_score_:.2f}\\n\")"
   ]
  },
  {
   "cell_type": "code",
   "execution_count": null,
   "id": "001a3ec2",
   "metadata": {},
   "outputs": [],
   "source": [
    "# Evaluate the best model found by Grid Search\n",
    "best_model = grid_search.best_estimator_\n",
    "y_pred_best = best_model.predict(X_test)\n",
    "print(f\"Accuracy of the best model on test set: {accuracy_score(y_test, y_pred_best):.2f}\")"
   ]
  }
 ],
 "metadata": {
  "jupytext": {
   "cell_metadata_filter": "-all",
   "main_language": "python",
   "notebook_metadata_filter": "-all"
  }
 },
 "nbformat": 4,
 "nbformat_minor": 5
}
