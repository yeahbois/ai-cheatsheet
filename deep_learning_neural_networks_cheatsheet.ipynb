{
 "cells": [
  {
   "cell_type": "markdown",
   "id": "395198d8",
   "metadata": {},
   "source": [
    "# DEEP LEARNING & NEURAL NETWORKS ##"
   ]
  },
  {
   "cell_type": "markdown",
   "id": "14ef547d",
   "metadata": {},
   "source": [
    "This cheat sheet provides a beginner-friendly guide to building neural networks with PyTorch.\n",
    "It includes fundamental concepts and a complete, runnable example of training a simple classifier."
   ]
  },
  {
   "cell_type": "code",
   "execution_count": null,
   "id": "ea4656b3",
   "metadata": {},
   "outputs": [],
   "source": [
    "import torch\n",
    "import torch.nn as nn\n",
    "import torch.optim as optim\n",
    "from sklearn.datasets import make_classification\n",
    "from sklearn.model_selection import train_test_split\n",
    "from sklearn.preprocessing import StandardScaler"
   ]
  },
  {
   "cell_type": "code",
   "execution_count": null,
   "id": "9fe772bf",
   "metadata": {},
   "outputs": [],
   "source": [
    "#==================================\n",
    "# 1. Core Neural Network Components\n",
    "#==================================\n",
    "print(\"# --- Core Neural Network Components ---\")"
   ]
  },
  {
   "cell_type": "markdown",
   "id": "033398e4",
   "metadata": {},
   "source": [
    "--- nn.Module: The Base for all Models ---\n",
    "All neural network models in PyTorch should be a subclass of nn.Module.\n",
    "A model must implement two methods:\n",
    "- __init__(): Where you define the layers of the network (e.g., linear, convolutional).\n",
    "- forward(): Where you define how data flows through the layers."
   ]
  },
  {
   "cell_type": "code",
   "execution_count": null,
   "id": "e5487b48",
   "metadata": {},
   "outputs": [],
   "source": [
    "# --- Layers: The Building Blocks ---\n",
    "# Linear Layer (or Fully Connected Layer): Applies a linear transformation (y = Wx + b).\n",
    "# It's the most basic type of layer.\n",
    "linear_layer = nn.Linear(in_features=10, out_features=5) # Takes 10 features in, outputs 5\n",
    "print(f\"Example Linear Layer: {linear_layer}\\n\")"
   ]
  },
  {
   "cell_type": "code",
   "execution_count": null,
   "id": "d1ee80d0",
   "metadata": {},
   "outputs": [],
   "source": [
    "# --- Activation Functions: Adding Non-Linearity ---\n",
    "# Activation functions allow networks to learn complex patterns. Without them, a neural network\n",
    "# would just be a series of linear operations, equivalent to a single linear layer.\n",
    "# They are applied after a layer's linear transformation.\n",
    "relu_activation = nn.ReLU()       # Rectified Linear Unit: Most common activation. Outputs max(0, x).\n",
    "sigmoid_activation = nn.Sigmoid() # Sigmoid: Squashes values between 0 and 1. Used for binary classification output.\n",
    "tanh_activation = nn.Tanh()       # Tanh: Squashes values between -1 and 1.\n",
    "print(f\"ReLU: {relu_activation}\")\n",
    "print(f\"Sigmoid: {sigmoid_activation}\")\n",
    "print(f\"Tanh: {tanh_activation}\\n\")"
   ]
  },
  {
   "cell_type": "code",
   "execution_count": null,
   "id": "991b2faa",
   "metadata": {},
   "outputs": [],
   "source": [
    "# --- Loss Functions: Measuring Model Error ---\n",
    "# A loss function measures how different the model's prediction is from the actual target.\n",
    "# The goal of training is to minimize this loss.\n",
    "mse_loss = nn.MSELoss()  # Mean Squared Error: For regression tasks.\n",
    "bce_loss = nn.BCELoss()  # Binary Cross-Entropy: For binary classification (0 or 1).\n",
    "ce_loss = nn.CrossEntropyLoss() # Cross-Entropy: For multi-class classification.\n",
    "print(f\"MSE Loss (for regression): {mse_loss}\")\n",
    "print(f\"BCE Loss (for binary classification): {bce_loss}\")\n",
    "print(f\"Cross-Entropy Loss (for multi-class): {ce_loss}\\n\")"
   ]
  },
  {
   "cell_type": "markdown",
   "id": "6f24a8c4",
   "metadata": {
    "lines_to_next_cell": 2
   },
   "source": [
    "--- Optimizers: Updating Model Weights ---\n",
    "An optimizer updates the model's weights (parameters) based on the computed gradients to minimize the loss.\n",
    "It implements a specific optimization algorithm (like SGD, Adam, etc.).\n",
    "`params=model.parameters()` tells the optimizer which values to update.\n",
    "`lr` is the learning rate, a crucial hyperparameter that controls the step size of updates.\n",
    "model = nn.Linear(1, 1) # Dummy model for optimizer instantiation\n",
    "sgd_optimizer = optim.SGD(model.parameters(), lr=0.01)\n",
    "adam_optimizer = optim.Adam(model.parameters(), lr=0.001)\n",
    "print(f\"SGD Optimizer: {sgd_optimizer}\")\n",
    "print(f\"Adam Optimizer: {adam_optimizer}\\n\")"
   ]
  },
  {
   "cell_type": "code",
   "execution_count": null,
   "id": "ee3995ad",
   "metadata": {},
   "outputs": [],
   "source": [
    "#==================================\n",
    "# 2. Complete Training Example: A Simple Binary Classifier\n",
    "#==================================\n",
    "print(\"\\n# --- A Complete Training Example ---\")"
   ]
  },
  {
   "cell_type": "code",
   "execution_count": null,
   "id": "823c85e0",
   "metadata": {},
   "outputs": [],
   "source": [
    "# --- Step 1: Prepare the Data ---\n",
    "# We'll use scikit-learn to generate a simple synthetic dataset for binary classification.\n",
    "X, y = make_classification(n_samples=500, n_features=10, n_informative=5, n_redundant=2, n_classes=2, random_state=42)"
   ]
  },
  {
   "cell_type": "code",
   "execution_count": null,
   "id": "1f31bfc4",
   "metadata": {},
   "outputs": [],
   "source": [
    "# Convert NumPy arrays to PyTorch Tensors\n",
    "# We need to reshape `y` to be a column vector for the loss function.\n",
    "X = torch.tensor(X, dtype=torch.float32)\n",
    "y = torch.tensor(y, dtype=torch.float32).view(-1, 1)"
   ]
  },
  {
   "cell_type": "code",
   "execution_count": null,
   "id": "a1768245",
   "metadata": {},
   "outputs": [],
   "source": [
    "# Scale features to have zero mean and unit variance. This helps training converge faster.\n",
    "scaler = StandardScaler()\n",
    "X = torch.tensor(scaler.fit_transform(X), dtype=torch.float32)"
   ]
  },
  {
   "cell_type": "code",
   "execution_count": null,
   "id": "cec85df4",
   "metadata": {},
   "outputs": [],
   "source": [
    "# Split data into training and testing sets\n",
    "X_train, X_test, y_train, y_test = train_test_split(X, y, test_size=0.2, random_state=42)\n",
    "print(f\"Data prepared. Training set size: {len(X_train)}, Test set size: {len(X_test)}\\n\")"
   ]
  },
  {
   "cell_type": "code",
   "execution_count": null,
   "id": "5bf7dd7e",
   "metadata": {
    "lines_to_next_cell": 1
   },
   "outputs": [],
   "source": [
    "# --- Step 2: Define the Neural Network Model ---\n",
    "class SimpleClassifier(nn.Module):\n",
    "    def __init__(self, num_features):\n",
    "        super(SimpleClassifier, self).__init__()\n",
    "        self.layer1 = nn.Linear(num_features, 16) # Input layer to hidden layer 1\n",
    "        self.layer2 = nn.Linear(16, 8)            # Hidden layer 1 to hidden layer 2\n",
    "        self.output_layer = nn.Linear(8, 1)       # Hidden layer 2 to output layer\n",
    "        self.relu = nn.ReLU()\n",
    "        self.sigmoid = nn.Sigmoid()\n",
    "\n",
    "    def forward(self, x):\n",
    "        # The forward pass\n",
    "        x = self.relu(self.layer1(x))\n",
    "        x = self.relu(self.layer2(x))\n",
    "        x = self.sigmoid(self.output_layer(x)) # Sigmoid for binary classification\n",
    "        return x"
   ]
  },
  {
   "cell_type": "code",
   "execution_count": null,
   "id": "9eeaea15",
   "metadata": {
    "lines_to_next_cell": 2
   },
   "outputs": [],
   "source": [
    "model = SimpleClassifier(num_features=X_train.shape[1])\n",
    "print(f\"Model Architecture:\\n{model}\\n\")"
   ]
  },
  {
   "cell_type": "code",
   "execution_count": null,
   "id": "fb95837c",
   "metadata": {
    "lines_to_next_cell": 2
   },
   "outputs": [],
   "source": [
    "# --- Step 3: Define Loss Function and Optimizer ---\n",
    "criterion = nn.BCELoss()\n",
    "optimizer = optim.Adam(model.parameters(), lr=0.001)"
   ]
  },
  {
   "cell_type": "code",
   "execution_count": null,
   "id": "b1c97314",
   "metadata": {
    "lines_to_next_cell": 2
   },
   "outputs": [],
   "source": [
    "# --- Step 4: The Training Loop ---\n",
    "epochs = 100 # An epoch is one full pass through the entire training dataset.\n",
    "for epoch in range(epochs):\n",
    "    # --- Training ---\n",
    "    model.train() # Set the model to training mode\n",
    "\n",
    "    # 1. Forward pass: compute predicted y by passing x to the model.\n",
    "    y_pred = model(X_train)\n",
    "\n",
    "    # 2. Compute loss\n",
    "    loss = criterion(y_pred, y_train)\n",
    "\n",
    "    # 3. Zero gradients: clear old gradients from the last step.\n",
    "    optimizer.zero_grad()\n",
    "\n",
    "    # 4. Backward pass: compute gradient of the loss with respect to model parameters.\n",
    "    loss.backward()\n",
    "\n",
    "    # 5. Call step(): Causes the optimizer to update the parameters.\n",
    "    optimizer.step()\n",
    "\n",
    "    if (epoch + 1) % 20 == 0:\n",
    "        print(f'Epoch [{epoch+1}/{epochs}], Loss: {loss.item():.4f}')"
   ]
  },
  {
   "cell_type": "code",
   "execution_count": null,
   "id": "963f0fc2",
   "metadata": {
    "lines_to_next_cell": 2
   },
   "outputs": [],
   "source": [
    "# --- Step 5: Evaluate the Model ---\n",
    "model.eval() # Set the model to evaluation mode (disables dropout, etc.)\n",
    "with torch.no_grad(): # We don't need to calculate gradients during evaluation\n",
    "    y_predicted = model(X_test)\n",
    "    # Convert outputs to binary predictions (0 or 1)\n",
    "    y_predicted_cls = y_predicted.round()\n",
    "\n",
    "    # Calculate accuracy\n",
    "    accuracy = (y_predicted_cls.eq(y_test).sum()) / float(y_test.shape[0])\n",
    "    print(f'\\nFinal Model Accuracy on Test Data: {accuracy.item() * 100:.2f}%')"
   ]
  },
  {
   "cell_type": "code",
   "execution_count": null,
   "id": "94a3938a",
   "metadata": {},
   "outputs": [],
   "source": [
    "# --- Step 6: Saving and Loading the Model ---\n",
    "# It's good practice to save your trained model for later use.\n",
    "MODEL_PATH = 'simple_classifier.pth'\n",
    "torch.save(model.state_dict(), MODEL_PATH)\n",
    "print(f\"\\nModel state dictionary saved to {MODEL_PATH}\")"
   ]
  },
  {
   "cell_type": "markdown",
   "id": "060edc07",
   "metadata": {},
   "source": [
    "To load the model later:\n",
    "loaded_model = SimpleClassifier(num_features=X_train.shape[1])\n",
    "loaded_model.load_state_dict(torch.load(MODEL_PATH))\n",
    "loaded_model.eval()\n",
    "print(\"Model loaded successfully!\")"
   ]
  }
 ],
 "metadata": {
  "jupytext": {
   "cell_metadata_filter": "-all",
   "main_language": "python",
   "notebook_metadata_filter": "-all"
  }
 },
 "nbformat": 4,
 "nbformat_minor": 5
}
