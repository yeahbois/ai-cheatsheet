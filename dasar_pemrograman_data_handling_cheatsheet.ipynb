{
 "cells": [
  {
   "cell_type": "markdown",
   "id": "d19b9995",
   "metadata": {},
   "source": [
    "=================================================================================================\n",
    "COMPREHENSIVE CHEAT SHEET: DASAR PEMROGRAMAN & DATA HANDLING\n",
    "=================================================================================================\n",
    "This file contains detailed, runnable examples for fundamental Python programming concepts\n",
    "and basic data (tensor) handling with PyTorch. It is designed for beginners.\n",
    "\n",
    "Sections:\n",
    "1. Dasar Python: Core Python programming concepts.\n",
    "2. Dasar PyTorch: Introduction to Tensors and basic operations.\n",
    "================================================================================================="
   ]
  },
  {
   "cell_type": "code",
   "execution_count": null,
   "id": "2ae4bd19",
   "metadata": {},
   "outputs": [],
   "source": [
    "import torch"
   ]
  },
  {
   "cell_type": "code",
   "execution_count": null,
   "id": "39d7fd39",
   "metadata": {},
   "outputs": [],
   "source": [
    "# =================================================================================================\n",
    "# 1. DASAR PYTHON (PYTHON FUNDAMENTALS)\n",
    "# =================================================================================================\n",
    "print(\"=\"*20 + \" 1. PYTHON FUNDAMENTALS CHEAT SHEET \" + \"=\"*20 + \"\\n\")"
   ]
  },
  {
   "cell_type": "code",
   "execution_count": null,
   "id": "0ff42cb0",
   "metadata": {},
   "outputs": [],
   "source": [
    "# ---------------------------------\n",
    "# Section 1.1: Variables and Data Types\n",
    "# ---------------------------------\n",
    "print(\"# --- 1.1: Variables and Data Types --- #\\n\")\n",
    "# Variables are containers for storing data values."
   ]
  },
  {
   "cell_type": "code",
   "execution_count": null,
   "id": "b1ccee1b",
   "metadata": {},
   "outputs": [],
   "source": [
    "# String: for text data.\n",
    "my_string = \"Hello, Python!\"\n",
    "print(f\"String: '{my_string}' (type: {type(my_string)})\")"
   ]
  },
  {
   "cell_type": "code",
   "execution_count": null,
   "id": "e36c3e1f",
   "metadata": {},
   "outputs": [],
   "source": [
    "# Integer: for whole numbers.\n",
    "my_integer = 101\n",
    "print(f\"Integer: {my_integer} (type: {type(my_integer)})\")"
   ]
  },
  {
   "cell_type": "code",
   "execution_count": null,
   "id": "a6f25a3f",
   "metadata": {},
   "outputs": [],
   "source": [
    "# Float: for numbers with a decimal point.\n",
    "my_float = 3.14\n",
    "print(f\"Float: {my_float} (type: {type(my_float)})\")"
   ]
  },
  {
   "cell_type": "code",
   "execution_count": null,
   "id": "3ceb8aef",
   "metadata": {
    "lines_to_next_cell": 2
   },
   "outputs": [],
   "source": [
    "# Boolean: for True/False values.\n",
    "my_boolean = False\n",
    "print(f\"Boolean: {my_boolean} (type: {type(my_boolean)})\\n\")"
   ]
  },
  {
   "cell_type": "code",
   "execution_count": null,
   "id": "852885f3",
   "metadata": {},
   "outputs": [],
   "source": [
    "# ---------------------------------\n",
    "# Section 1.2: Basic Data Structures\n",
    "# ---------------------------------\n",
    "print(\"# --- 1.2: Basic Data Structures --- #\\n\")"
   ]
  },
  {
   "cell_type": "code",
   "execution_count": null,
   "id": "13186bfd",
   "metadata": {},
   "outputs": [],
   "source": [
    "# --- List ---\n",
    "# An ordered and mutable (changeable) collection. Allows duplicate members.\n",
    "print(\"# List: Ordered and changeable\")\n",
    "my_list = [\"apple\", \"banana\", \"cherry\"]\n",
    "print(f\"Original list: {my_list}\")\n",
    "# Accessing items by index\n",
    "print(f\"  First item: {my_list[0]}\")\n",
    "# Changing an item\n",
    "my_list[1] = \"blueberry\"\n",
    "print(f\"  List after changing an item: {my_list}\")\n",
    "# Adding an item\n",
    "my_list.append(\"orange\")\n",
    "print(f\"  List after appending an item: {my_list}\\n\")"
   ]
  },
  {
   "cell_type": "code",
   "execution_count": null,
   "id": "3a1e5c32",
   "metadata": {},
   "outputs": [],
   "source": [
    "# --- Tuple ---\n",
    "# An ordered and immutable (unchangeable) collection. Allows duplicate members.\n",
    "print(\"# Tuple: Ordered and unchangeable\")\n",
    "my_tuple = (\"red\", \"green\", \"blue\")\n",
    "print(f\"Tuple: {my_tuple}\")\n",
    "# You can access items, but you cannot change them.\n",
    "# my_tuple[0] = \"yellow\"  # This would raise a TypeError\\n\")"
   ]
  },
  {
   "cell_type": "code",
   "execution_count": null,
   "id": "236809f8",
   "metadata": {
    "lines_to_next_cell": 2
   },
   "outputs": [],
   "source": [
    "# --- Dictionary ---\n",
    "# An unordered, mutable, and indexed collection of key-value pairs. No duplicate keys.\n",
    "print(\"# Dictionary: Unordered and changeable key-value pairs\")\n",
    "my_dict = {\n",
    "  \"brand\": \"Ford\",\n",
    "  \"model\": \"Mustang\",\n",
    "  \"year\": 1964\n",
    "}\n",
    "print(f\"Original dictionary: {my_dict}\")\n",
    "# Accessing items by key\n",
    "print(f\"  Model: {my_dict['model']}\")\n",
    "# Changing a value\n",
    "my_dict[\"year\"] = 2020\n",
    "print(f\"  Dictionary after changing a value: {my_dict}\")\n",
    "# Adding a new key-value pair\n",
    "my_dict[\"color\"] = \"red\"\n",
    "print(f\"  Dictionary after adding an item: {my_dict}\\n\")"
   ]
  },
  {
   "cell_type": "code",
   "execution_count": null,
   "id": "ff60a5df",
   "metadata": {},
   "outputs": [],
   "source": [
    "# ---------------------------------\n",
    "# Section 1.3: Control Flow (Loops and Conditionals)\n",
    "# ---------------------------------\n",
    "print(\"# --- 1.3: Control Flow --- #\\n\")"
   ]
  },
  {
   "cell_type": "code",
   "execution_count": null,
   "id": "5ad8433b",
   "metadata": {},
   "outputs": [],
   "source": [
    "# --- If-Elif-Else Statement ---\n",
    "# Used for conditional execution.\n",
    "print(\"# Conditional Statements (if/elif/else)\")\n",
    "x = 20\n",
    "if x > 50:\n",
    "  print(\"x is greater than 50\")\n",
    "elif x == 20:\n",
    "  print(\"x is exactly 20\")\n",
    "else:\n",
    "  print(\"x is less than 50 and not 20\\n\")"
   ]
  },
  {
   "cell_type": "code",
   "execution_count": null,
   "id": "b2a6d981",
   "metadata": {},
   "outputs": [],
   "source": [
    "# --- For Loop ---\n",
    "# Used for iterating over a sequence.\n",
    "print(\"# For Loop: Iterating through a list\")\n",
    "for fruit in [\"apple\", \"banana\", \"cherry\"]:\n",
    "  print(f\"  Current fruit: {fruit}\")\n",
    "print(\"\")"
   ]
  },
  {
   "cell_type": "code",
   "execution_count": null,
   "id": "a0b13f00",
   "metadata": {
    "lines_to_next_cell": 2
   },
   "outputs": [],
   "source": [
    "# --- While Loop ---\n",
    "# Used for executing a set of statements as long as a condition is true.\n",
    "print(\"# While Loop: Counting from 1 to 3\")\n",
    "i = 1\n",
    "while i <= 3:\n",
    "  print(f\"  Current count: {i}\")\n",
    "  i += 1 # Increment i, or the loop will continue forever\n",
    "print(\"\")"
   ]
  },
  {
   "cell_type": "code",
   "execution_count": null,
   "id": "0cce2e78",
   "metadata": {},
   "outputs": [],
   "source": [
    "# ---------------------------------\n",
    "# Section 1.4: Functions\n",
    "# ---------------------------------\n",
    "print(\"# --- 1.4: Functions --- #\\n\")\n",
    "# A function is a block of code which only runs when it is called.\n",
    "# You can pass data, known as parameters, into a function."
   ]
  },
  {
   "cell_type": "code",
   "execution_count": null,
   "id": "8d6de8a5",
   "metadata": {
    "lines_to_next_cell": 1
   },
   "outputs": [],
   "source": [
    "# Defining a function\n",
    "def calculate_area(width, height):\n",
    "  \"\"\"This function calculates the area of a rectangle.\"\"\"\n",
    "  area = width * height\n",
    "  return area"
   ]
  },
  {
   "cell_type": "code",
   "execution_count": null,
   "id": "a15d59fb",
   "metadata": {
    "lines_to_next_cell": 2
   },
   "outputs": [],
   "source": [
    "# Calling the function\n",
    "w = 5\n",
    "h = 10\n",
    "rectangle_area = calculate_area(w, h)\n",
    "print(f\"The area of a rectangle with width {w} and height {h} is {rectangle_area}.\\n\")"
   ]
  },
  {
   "cell_type": "code",
   "execution_count": null,
   "id": "22b2b2f5",
   "metadata": {},
   "outputs": [],
   "source": [
    "# =================================================================================================\n",
    "# 2. DASAR PYTORCH (PYTORCH FUNDAMENTALS)\n",
    "# =================================================================================================\n",
    "print(\"\\n\" + \"=\"*20 + \" 2. PYTORCH FUNDAMENTALS CHEAT SHEET \" + \"=\"*20 + \"\\n\")\n",
    "# PyTorch is an open source machine learning library used for developing and training neural networks.\n",
    "# Its core data structure is the Tensor."
   ]
  },
  {
   "cell_type": "code",
   "execution_count": null,
   "id": "abba6a2c",
   "metadata": {},
   "outputs": [],
   "source": [
    "# ---------------------------------\n",
    "# Section 2.1: Tensor Creation and Attributes\n",
    "# ---------------------------------\n",
    "print(\"# --- 2.1: Tensor Creation and Attributes --- #\\n\")"
   ]
  },
  {
   "cell_type": "code",
   "execution_count": null,
   "id": "536e7222",
   "metadata": {},
   "outputs": [],
   "source": [
    "# Create a tensor from a Python list.\n",
    "data = [[1, 2],[3, 4]]\n",
    "x_data = torch.tensor(data)\n",
    "print(f\"Tensor created from list:\\n{x_data}\\n\")"
   ]
  },
  {
   "cell_type": "code",
   "execution_count": null,
   "id": "332a6374",
   "metadata": {},
   "outputs": [],
   "source": [
    "# Get tensor attributes.\n",
    "print(f\"Tensor Shape: {x_data.shape}\") # Dimensions of the tensor\n",
    "print(f\"Tensor DataType: {x_data.dtype}\") # Data type of elements\n",
    "print(f\"Device tensor is stored on: {x_data.device}\\n\") # CPU or GPU"
   ]
  },
  {
   "cell_type": "code",
   "execution_count": null,
   "id": "6213973f",
   "metadata": {},
   "outputs": [],
   "source": [
    "# Create tensors with specific values.\n",
    "shape = (2, 3,)\n",
    "rand_tensor = torch.rand(shape)\n",
    "ones_tensor = torch.ones(shape)\n",
    "zeros_tensor = torch.zeros(shape)"
   ]
  },
  {
   "cell_type": "code",
   "execution_count": null,
   "id": "1560b12b",
   "metadata": {
    "lines_to_next_cell": 2
   },
   "outputs": [],
   "source": [
    "print(f\"Random Tensor:\\n {rand_tensor} \\n\")\n",
    "print(f\"Ones Tensor:\\n {ones_tensor} \\n\")\n",
    "print(f\"Zeros Tensor:\\n {zeros_tensor} \\n\")"
   ]
  },
  {
   "cell_type": "code",
   "execution_count": null,
   "id": "5f6bc109",
   "metadata": {},
   "outputs": [],
   "source": [
    "# ---------------------------------\n",
    "# Section 2.2: Tensor Operations\n",
    "# ---------------------------------\n",
    "print(\"# --- 2.2: Tensor Operations --- #\\n\")\n",
    "tensor = torch.ones(2, 2)\n",
    "print(f\"Original Tensor:\\n{tensor}\\n\")"
   ]
  },
  {
   "cell_type": "code",
   "execution_count": null,
   "id": "7b14d698",
   "metadata": {},
   "outputs": [],
   "source": [
    "# --- Indexing and Slicing ---\n",
    "print(f\"First row: {tensor[0]}\")\n",
    "print(f\"First column: {tensor[:, 0]}\")\n",
    "print(f\"Last column: {tensor[..., -1]}\\n\")"
   ]
  },
  {
   "cell_type": "code",
   "execution_count": null,
   "id": "d736c796",
   "metadata": {},
   "outputs": [],
   "source": [
    "# --- Joining Tensors ---\n",
    "# torch.cat stacks tensors along an existing dimension.\n",
    "t1 = torch.cat([tensor, tensor, tensor], dim=1)\n",
    "print(f\"Concatenated Tensor (dim=1):\\n{t1}\\n\")"
   ]
  },
  {
   "cell_type": "code",
   "execution_count": null,
   "id": "ac2e6aae",
   "metadata": {},
   "outputs": [],
   "source": [
    "# --- Arithmetic operations ---\n",
    "# Matrix multiplication\n",
    "matrix_mul = tensor.matmul(tensor.T) # .T is the transpose\n",
    "print(f\"Matrix multiplication (tensor @ tensor.T):\\n{matrix_mul}\\n\")"
   ]
  },
  {
   "cell_type": "code",
   "execution_count": null,
   "id": "2569a2ba",
   "metadata": {
    "lines_to_next_cell": 2
   },
   "outputs": [],
   "source": [
    "# Element-wise product\n",
    "element_mul = tensor.mul(tensor)\n",
    "print(f\"Element-wise multiplication (tensor * tensor):\\n{element_mul}\\n\")"
   ]
  },
  {
   "cell_type": "code",
   "execution_count": null,
   "id": "1e131154",
   "metadata": {},
   "outputs": [],
   "source": [
    "# ---------------------------------\n",
    "# Section 2.3: CPU vs GPU\n",
    "# ---------------------------------\n",
    "print(\"# --- 2.3: CPU vs GPU --- #\\n\")\n",
    "# PyTorch can move computations to a GPU to accelerate them.\n",
    "if torch.cuda.is_available():\n",
    "    device = \"cuda\"\n",
    "    print(\"GPU is available. Moving tensor to GPU.\")\n",
    "    tensor = tensor.to(device)\n",
    "    print(f\"Tensor is now on device: {tensor.device}\")\n",
    "else:\n",
    "    print(\"GPU not available. Tensor remains on CPU.\")"
   ]
  },
  {
   "cell_type": "code",
   "execution_count": null,
   "id": "e8120083",
   "metadata": {},
   "outputs": [],
   "source": [
    "# ---------------------------------\n",
    "# Section 2.4: Reproducibility\n",
    "# ---------------------------------\n",
    "print(\"\\n# --- 2.4: Reproducibility --- #\\n\")\n",
    "# Setting a random seed is crucial for getting the same results across runs.\n",
    "torch.manual_seed(42)\n",
    "rand1 = torch.rand(2,2)\n",
    "print(f\"First random tensor with seed 42:\\n{rand1}\\n\")"
   ]
  },
  {
   "cell_type": "code",
   "execution_count": null,
   "id": "ca90af2c",
   "metadata": {},
   "outputs": [],
   "source": [
    "torch.manual_seed(42)\n",
    "rand2 = torch.rand(2,2)\n",
    "print(f\"Second random tensor with seed 42 (should be identical):\\n{rand2}\\n\")"
   ]
  }
 ],
 "metadata": {
  "jupytext": {
   "cell_metadata_filter": "-all",
   "main_language": "python",
   "notebook_metadata_filter": "-all"
  }
 },
 "nbformat": 4,
 "nbformat_minor": 5
}
