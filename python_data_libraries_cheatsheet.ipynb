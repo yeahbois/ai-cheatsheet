{
 "cells": [
  {
   "cell_type": "markdown",
   "id": "4f4452c3",
   "metadata": {},
   "source": [
    "=================================================================================================\n",
    "COMPREHENSIVE PYTHON DATA SCIENCE CHEAT SHEET\n",
    "=================================================================================================\n",
    "This file contains detailed, runnable examples for the core Python data science libraries.\n",
    "It is designed for beginners and can be executed directly in environments like Google Colab.\n",
    "\n",
    "Sections:\n",
    "1. NumPy: For numerical operations and working with n-dimensional arrays.\n",
    "2. Pandas: For data manipulation and analysis using DataFrames.\n",
    "3. Matplotlib: For creating static, animated, and interactive visualizations.\n",
    "4. Seaborn: A high-level interface for drawing attractive and informative statistical graphics.\n",
    "================================================================================================="
   ]
  },
  {
   "cell_type": "code",
   "execution_count": null,
   "id": "405b74d1",
   "metadata": {},
   "outputs": [],
   "source": [
    "import numpy as np\n",
    "import pandas as pd\n",
    "import matplotlib.pyplot as plt\n",
    "import seaborn as sns\n",
    "import os"
   ]
  },
  {
   "cell_type": "markdown",
   "id": "feb7d43e",
   "metadata": {},
   "source": [
    "=================================================================================================\n",
    "1. NUMPY (Numerical Python)\n",
    "=================================================================================================\n",
    "NumPy is the fundamental package for scientific computing in Python. It provides a powerful\n",
    "N-dimensional array object, sophisticated (broadcasting) functions, tools for integrating\n",
    "C/C++ and Fortran code, and useful linear algebra, Fourier transform, and random number capabilities."
   ]
  },
  {
   "cell_type": "code",
   "execution_count": null,
   "id": "4254300c",
   "metadata": {},
   "outputs": [],
   "source": [
    "print(\"=\"*20 + \" 1. NUMPY CHEAT SHEET \" + \"=\"*20 + \"\\n\")"
   ]
  },
  {
   "cell_type": "code",
   "execution_count": null,
   "id": "0e7053ce",
   "metadata": {},
   "outputs": [],
   "source": [
    "# ---------------------------------\n",
    "# Section 1.1: Array Creation\n",
    "# ---------------------------------\n",
    "print(\"# --- 1.1: Array Creation --- #\\n\")"
   ]
  },
  {
   "cell_type": "code",
   "execution_count": null,
   "id": "09d3c6e0",
   "metadata": {},
   "outputs": [],
   "source": [
    "# np.array(): Create an array from a Python list or tuple.\n",
    "# This is the most common way to create an array.\n",
    "print(\"# np.array(): Create an array from a list\")\n",
    "list_data = [1, 2, 3, 4, 5]\n",
    "arr_from_list = np.array(list_data)\n",
    "print(f\"Array from list {list_data}:\\n{arr_from_list}\\n\")"
   ]
  },
  {
   "cell_type": "code",
   "execution_count": null,
   "id": "9a05dd3f",
   "metadata": {},
   "outputs": [],
   "source": [
    "# np.zeros(): Create an array filled with zeros. Useful for initialization.\n",
    "# The argument is a shape tuple (rows, columns).\n",
    "print(\"# np.zeros(): Create a 2x3 array of zeros\")\n",
    "zeros_arr = np.zeros((2, 3))\n",
    "print(f\"A 2x3 array of zeros:\\n{zeros_arr}\\n\")"
   ]
  },
  {
   "cell_type": "code",
   "execution_count": null,
   "id": "039df517",
   "metadata": {},
   "outputs": [],
   "source": [
    "# np.ones(): Create an array filled with ones.\n",
    "print(\"# np.ones(): Create a 2x3 array of ones with integer type\")\n",
    "ones_arr = np.ones((2, 3), dtype=np.int16)\n",
    "print(f\"A 2x3 array of ones:\\n{ones_arr}\\n\")"
   ]
  },
  {
   "cell_type": "code",
   "execution_count": null,
   "id": "8f26cd2a",
   "metadata": {},
   "outputs": [],
   "source": [
    "# np.arange(): Create an array with a range of numbers, similar to Python's range().\n",
    "# Arguments: arange(start, stop, step). 'stop' is exclusive.\n",
    "print(\"# np.arange(): Create an array from 10 to 19 with a step of 2\")\n",
    "arange_arr = np.arange(10, 20, 2)\n",
    "print(f\"Array from 10 to 19 (step 2): {arange_arr}\\n\")"
   ]
  },
  {
   "cell_type": "code",
   "execution_count": null,
   "id": "8aec23d5",
   "metadata": {},
   "outputs": [],
   "source": [
    "# np.linspace(): Create an array with evenly spaced numbers over a specified interval.\n",
    "# Arguments: linspace(start, stop, num_of_points). 'stop' is inclusive.\n",
    "print(\"# np.linspace(): Create 5 points from 0 to 10\")\n",
    "linspace_arr = np.linspace(0, 10, num=5)\n",
    "print(f\"5 points from 0 to 10: {linspace_arr}\\n\")"
   ]
  },
  {
   "cell_type": "code",
   "execution_count": null,
   "id": "bdecb94b",
   "metadata": {},
   "outputs": [],
   "source": [
    "# np.full(): Create a constant array of a given shape and fill value.\n",
    "print(\"# np.full(): Create a 2x2 array filled with the number 7\")\n",
    "full_arr = np.full((2, 2), 7)\n",
    "print(f\"A 2x2 array filled with 7:\\n{full_arr}\\n\")"
   ]
  },
  {
   "cell_type": "code",
   "execution_count": null,
   "id": "5d453150",
   "metadata": {},
   "outputs": [],
   "source": [
    "# np.eye(): Create a 2-D identity matrix (1s on the diagonal, 0s elsewhere).\n",
    "print(\"# np.eye(): Create a 3x3 identity matrix\")\n",
    "eye_arr = np.eye(3)\n",
    "print(f\"A 3x3 identity matrix:\\n{eye_arr}\\n\")"
   ]
  },
  {
   "cell_type": "code",
   "execution_count": null,
   "id": "3588971d",
   "metadata": {
    "lines_to_next_cell": 2
   },
   "outputs": [],
   "source": [
    "# np.random.rand(): Create an array of a given shape with random values from [0, 1).\n",
    "print(\"# np.random.rand(): Create a 2x2 array with random floats\")\n",
    "rand_arr = np.random.rand(2, 2)\n",
    "print(f\"A 2x2 random array:\\n{rand_arr}\\n\")"
   ]
  },
  {
   "cell_type": "code",
   "execution_count": null,
   "id": "2f028d19",
   "metadata": {},
   "outputs": [],
   "source": [
    "# ---------------------------------\n",
    "# Section 1.2: Array Attributes and Inspection\n",
    "# ---------------------------------\n",
    "print(\"\\n# --- 1.2: Array Attributes and Inspection --- #\\n\")\n",
    "arr_inspect = np.array([[1, 2, 3], [4, 5, 6]])\n",
    "print(f\"Our inspection array:\\n{arr_inspect}\\n\")"
   ]
  },
  {
   "cell_type": "code",
   "execution_count": null,
   "id": "b525387f",
   "metadata": {
    "lines_to_next_cell": 2
   },
   "outputs": [],
   "source": [
    "# .shape: Returns a tuple with the dimensions of the array (rows, columns).\n",
    "print(f\"arr.shape: {arr_inspect.shape}\")\n",
    "# .ndim: Returns the number of array dimensions.\n",
    "print(f\"arr.ndim: {arr_inspect.ndim}\")\n",
    "# .size: Returns the total number of elements in the array.\n",
    "print(f\"arr.size: {arr_inspect.size}\")\n",
    "# .dtype: Returns the data type of the array's elements.\n",
    "print(f\"arr.dtype: {arr_inspect.dtype}\")"
   ]
  },
  {
   "cell_type": "code",
   "execution_count": null,
   "id": "cde577c5",
   "metadata": {},
   "outputs": [],
   "source": [
    "# ---------------------------------\n",
    "# Section 1.3: Indexing and Slicing\n",
    "# ---------------------------------\n",
    "print(\"\\n# --- 1.3: Indexing and Slicing --- #\\n\")\n",
    "arr_slice = np.arange(10, 20)\n",
    "print(f\"Our slicing array: {arr_slice}\\n\")"
   ]
  },
  {
   "cell_type": "code",
   "execution_count": null,
   "id": "0f8963d8",
   "metadata": {},
   "outputs": [],
   "source": [
    "# Basic indexing: Access a single element.\n",
    "print(f\"Element at index 3: {arr_slice[3]}\") # Result: 13"
   ]
  },
  {
   "cell_type": "code",
   "execution_count": null,
   "id": "6cff04ec",
   "metadata": {},
   "outputs": [],
   "source": [
    "# Slicing: Access a range of elements. array[start:stop:step].\n",
    "print(f\"Elements from index 2 to 5: {arr_slice[2:5]}\") # Result: [12 13 14]"
   ]
  },
  {
   "cell_type": "code",
   "execution_count": null,
   "id": "39a062de",
   "metadata": {},
   "outputs": [],
   "source": [
    "# Multidimensional indexing:\n",
    "arr_2d = np.array([[10, 11, 12], [13, 14, 15], [16, 17, 18]])\n",
    "print(f\"Our 2D array:\\n{arr_2d}\\n\")\n",
    "print(f\"Element at row 1, column 2: {arr_2d[1, 2]}\") # Result: 15"
   ]
  },
  {
   "cell_type": "code",
   "execution_count": null,
   "id": "ad28e983",
   "metadata": {},
   "outputs": [],
   "source": [
    "# Multidimensional slicing:\n",
    "# Get a sub-array of the first two rows and columns 1 and 2.\n",
    "sub_arr = arr_2d[:2, 1:]\n",
    "print(f\"Sub-array (first 2 rows, cols 1-2):\\n{sub_arr}\\n\")"
   ]
  },
  {
   "cell_type": "code",
   "execution_count": null,
   "id": "aad0b071",
   "metadata": {
    "lines_to_next_cell": 2
   },
   "outputs": [],
   "source": [
    "# Boolean indexing: Use boolean arrays to filter elements.\n",
    "bool_idx = arr_2d > 14\n",
    "print(f\"Boolean mask (elements > 14):\\n{bool_idx}\\n\")\n",
    "print(f\"Elements where value > 14: {arr_2d[bool_idx]}\\n\")"
   ]
  },
  {
   "cell_type": "code",
   "execution_count": null,
   "id": "a431686f",
   "metadata": {},
   "outputs": [],
   "source": [
    "# ---------------------------------\n",
    "# Section 1.4: Array Math and Operations\n",
    "# ---------------------------------\n",
    "print(\"\\n# --- 1.4: Array Math and Operations --- #\\n\")\n",
    "x = np.array([[1, 2], [3, 4]])\n",
    "y = np.array([[5, 6], [7, 8]])"
   ]
  },
  {
   "cell_type": "code",
   "execution_count": null,
   "id": "5ef446e5",
   "metadata": {},
   "outputs": [],
   "source": [
    "# Element-wise operations:\n",
    "print(f\"Element-wise addition (x + y):\\n{x + y}\\n\")\n",
    "print(f\"Element-wise subtraction (y - x):\\n{y - x}\\n\")\n",
    "print(f\"Element-wise multiplication (x * y):\\n{x * y}\\n\")\n",
    "print(f\"Element-wise division (y / x):\\n{y / x}\\n\")\n",
    "print(f\"Element-wise square root (np.sqrt(x)):\\n{np.sqrt(x)}\\n\")"
   ]
  },
  {
   "cell_type": "code",
   "execution_count": null,
   "id": "4d6c11d4",
   "metadata": {},
   "outputs": [],
   "source": [
    "# Matrix multiplication (Dot product):\n",
    "# np.dot() or the @ operator can be used.\n",
    "print(f\"Matrix multiplication (np.dot(x, y)):\\n{np.dot(x, y)}\\n\")\n",
    "print(f\"Matrix multiplication (x @ y):\\n{x @ y}\\n\")"
   ]
  },
  {
   "cell_type": "code",
   "execution_count": null,
   "id": "eb0d70f5",
   "metadata": {
    "lines_to_next_cell": 2
   },
   "outputs": [],
   "source": [
    "# Aggregation functions:\n",
    "stats_arr = np.array([1, 2, 3, 4, 5])\n",
    "print(f\"Sum of elements: {stats_arr.sum()}\")\n",
    "print(f\"Mean of elements: {stats_arr.mean()}\")\n",
    "print(f\"Max value: {stats_arr.max()}\")\n",
    "print(f\"Min value: {stats_arr.min()}\\n\")"
   ]
  },
  {
   "cell_type": "code",
   "execution_count": null,
   "id": "acd46962",
   "metadata": {},
   "outputs": [],
   "source": [
    "# ---------------------------------\n",
    "# Section 1.5: Reshaping and Transposing\n",
    "# ---------------------------------\n",
    "print(\"\\n# --- 1.5: Reshaping and Transposing --- #\\n\")\n",
    "arr_reshape = np.arange(1, 13) # 12 elements\n",
    "print(f\"Original array: {arr_reshape}\\n\")"
   ]
  },
  {
   "cell_type": "code",
   "execution_count": null,
   "id": "03d0a3e9",
   "metadata": {},
   "outputs": [],
   "source": [
    "# .reshape(): Reshapes the array without changing its data.\n",
    "reshaped = arr_reshape.reshape(3, 4)\n",
    "print(f\"Array reshaped to 3x4:\\n{reshaped}\\n\")"
   ]
  },
  {
   "cell_type": "code",
   "execution_count": null,
   "id": "56078f4f",
   "metadata": {},
   "outputs": [],
   "source": [
    "# .T or .transpose(): Transposes the array (swaps rows and columns).\n",
    "transposed = reshaped.T\n",
    "print(f\"Transposed 3x4 array (now 4x3):\\n{transposed}\\n\")"
   ]
  },
  {
   "cell_type": "code",
   "execution_count": null,
   "id": "8e48a614",
   "metadata": {
    "lines_to_next_cell": 2
   },
   "outputs": [],
   "source": [
    "# .flatten(): Returns a 1D copy of the array.\n",
    "flattened = transposed.flatten()\n",
    "print(f\"Flattened array: {flattened}\\n\")"
   ]
  },
  {
   "cell_type": "markdown",
   "id": "355bde43",
   "metadata": {
    "lines_to_next_cell": 2
   },
   "source": [
    "This concludes the detailed NumPy section.\n",
    "The following sections will cover Pandas, Matplotlib, and Seaborn."
   ]
  },
  {
   "cell_type": "markdown",
   "id": "24ed29fb",
   "metadata": {},
   "source": [
    "=================================================================================================\n",
    "2. PANDAS\n",
    "=================================================================================================\n",
    "Pandas is a fast, powerful, flexible, and easy-to-use open-source data analysis and\n",
    "manipulation tool, built on top of the Python programming language. It is the go-to library\n",
    "for handling structured data."
   ]
  },
  {
   "cell_type": "code",
   "execution_count": null,
   "id": "b316d5cf",
   "metadata": {},
   "outputs": [],
   "source": [
    "print(\"\\n\" + \"=\"*20 + \" 2. PANDAS CHEAT SHEET \" + \"=\"*20 + \"\\n\")"
   ]
  },
  {
   "cell_type": "code",
   "execution_count": null,
   "id": "a2724891",
   "metadata": {},
   "outputs": [],
   "source": [
    "# ---------------------------------\n",
    "# Section 2.1: Pandas Data Structures (Series and DataFrame)\n",
    "# ---------------------------------\n",
    "print(\"# --- 2.1: Pandas Data Structures --- #\\n\")"
   ]
  },
  {
   "cell_type": "code",
   "execution_count": null,
   "id": "2326889c",
   "metadata": {},
   "outputs": [],
   "source": [
    "# pd.Series: A one-dimensional labeled array capable of holding any data type.\n",
    "# The labels are collectively referred to as the index.\n",
    "print(\"# pd.Series: Create a Series from a list\")\n",
    "s = pd.Series([10, 20, 30, 40, 50], name='MyNumbers')\n",
    "print(f\"A Pandas Series:\\n{s}\\n\")"
   ]
  },
  {
   "cell_type": "code",
   "execution_count": null,
   "id": "2eb7b747",
   "metadata": {
    "lines_to_next_cell": 2
   },
   "outputs": [],
   "source": [
    "# pd.DataFrame: A two-dimensional, size-mutable, and potentially heterogeneous\n",
    "# tabular data structure with labeled axes (rows and columns).\n",
    "print(\"# pd.DataFrame: Create a DataFrame from a dictionary\")\n",
    "data = {'Name': ['Alice', 'Bob', 'Charlie', 'David'],\n",
    "        'Age': [25, 30, 35, 40],\n",
    "        'City': ['New York', 'Los Angeles', 'Chicago', 'Houston']}\n",
    "df = pd.DataFrame(data)\n",
    "print(f\"A Pandas DataFrame:\\n{df}\\n\")"
   ]
  },
  {
   "cell_type": "code",
   "execution_count": null,
   "id": "f5534f2a",
   "metadata": {},
   "outputs": [],
   "source": [
    "# ---------------------------------\n",
    "# Section 2.2: Reading and Writing Data\n",
    "# ---------------------------------\n",
    "print(\"\\n# --- 2.2: Reading and Writing Data --- #\\n\")"
   ]
  },
  {
   "cell_type": "code",
   "execution_count": null,
   "id": "efac1baf",
   "metadata": {},
   "outputs": [],
   "source": [
    "# Pandas supports reading from and writing to a wide variety of file formats.\n",
    "# Let's create a dummy CSV file to demonstrate.\n",
    "df.to_csv('sample_data.csv', index=False) # index=False prevents writing row numbers"
   ]
  },
  {
   "cell_type": "code",
   "execution_count": null,
   "id": "9890ee2d",
   "metadata": {},
   "outputs": [],
   "source": [
    "# pd.read_csv(): Read a comma-separated values (csv) file into a DataFrame.\n",
    "print(\"# pd.read_csv(): Reading data from 'sample_data.csv'\")\n",
    "df_from_csv = pd.read_csv('sample_data.csv')\n",
    "print(f\"DataFrame read from CSV:\\n{df_from_csv}\\n\")"
   ]
  },
  {
   "cell_type": "code",
   "execution_count": null,
   "id": "41ef4f5a",
   "metadata": {
    "lines_to_next_cell": 2
   },
   "outputs": [],
   "source": [
    "# Clean up the dummy file\n",
    "os.remove('sample_data.csv')"
   ]
  },
  {
   "cell_type": "code",
   "execution_count": null,
   "id": "96b92c1e",
   "metadata": {},
   "outputs": [],
   "source": [
    "# ---------------------------------\n",
    "# Section 2.3: Viewing and Inspecting Data\n",
    "# ---------------------------------\n",
    "print(\"\\n# --- 2.3: Viewing and Inspecting Data --- #\\n\")\n",
    "print(f\"Our DataFrame:\\n{df}\\n\")"
   ]
  },
  {
   "cell_type": "code",
   "execution_count": null,
   "id": "fbe55784",
   "metadata": {},
   "outputs": [],
   "source": [
    "# .head(): View the first n rows (default is 5).\n",
    "print(f\"First 2 rows (.head(2)):\\n{df.head(2)}\\n\")"
   ]
  },
  {
   "cell_type": "code",
   "execution_count": null,
   "id": "65d3cdcc",
   "metadata": {},
   "outputs": [],
   "source": [
    "# .tail(): View the last n rows (default is 5).\n",
    "print(f\"Last 2 rows (.tail(2)):\\n{df.tail(2)}\\n\")"
   ]
  },
  {
   "cell_type": "code",
   "execution_count": null,
   "id": "06cd4b3b",
   "metadata": {},
   "outputs": [],
   "source": [
    "# .info(): Get a concise summary of the DataFrame, including data types and non-null values.\n",
    "print(\"# .info(): Summary of the DataFrame\")\n",
    "df.info()\n",
    "print(\"\") # for spacing"
   ]
  },
  {
   "cell_type": "code",
   "execution_count": null,
   "id": "3bace96f",
   "metadata": {
    "lines_to_next_cell": 2
   },
   "outputs": [],
   "source": [
    "# .describe(): Generate descriptive statistics (count, mean, std, etc.).\n",
    "print(f\"# .describe(): Descriptive statistics:\\n{df.describe()}\\n\")"
   ]
  },
  {
   "cell_type": "code",
   "execution_count": null,
   "id": "871de572",
   "metadata": {},
   "outputs": [],
   "source": [
    "# ---------------------------------\n",
    "# Section 2.4: Selection and Indexing (loc, iloc)\n",
    "# ---------------------------------\n",
    "print(\"\\n# --- 2.4: Selection and Indexing --- #\\n\")"
   ]
  },
  {
   "cell_type": "code",
   "execution_count": null,
   "id": "c014939c",
   "metadata": {},
   "outputs": [],
   "source": [
    "# Selecting a single column returns a Series.\n",
    "print(f\"Selecting the 'Name' column:\\n{df['Name']}\\n\")"
   ]
  },
  {
   "cell_type": "code",
   "execution_count": null,
   "id": "11f30795",
   "metadata": {},
   "outputs": [],
   "source": [
    "# Selecting multiple columns returns a DataFrame.\n",
    "print(f\"Selecting 'Name' and 'City' columns:\\n{df[['Name', 'City']]}\\n\")"
   ]
  },
  {
   "cell_type": "code",
   "execution_count": null,
   "id": "b1d196d9",
   "metadata": {},
   "outputs": [],
   "source": [
    "# .loc: Selection by label (row and column names).\n",
    "print(f\"# .loc[1]: Select row with index label 1\\n{df.loc[1]}\\n\")\n",
    "print(f\"# .loc[0:2, 'Age':'City']: Slice rows and columns by label\\n{df.loc[0:2, 'Age':'City']}\\n\")"
   ]
  },
  {
   "cell_type": "code",
   "execution_count": null,
   "id": "21b33a6f",
   "metadata": {
    "lines_to_next_cell": 2
   },
   "outputs": [],
   "source": [
    "# .iloc: Selection by integer position.\n",
    "print(f\"# .iloc[2]: Select row at integer position 2\\n{df.iloc[2]}\\n\")\n",
    "print(f\"# .iloc[0:2, 0:2]: Slice rows and columns by position\\n{df.iloc[0:2, 0:2]}\\n\")"
   ]
  },
  {
   "cell_type": "code",
   "execution_count": null,
   "id": "3101a201",
   "metadata": {},
   "outputs": [],
   "source": [
    "# ---------------------------------\n",
    "# Section 2.5: Conditional Filtering\n",
    "# ---------------------------------\n",
    "print(\"\\n# --- 2.5: Conditional Filtering --- #\\n\")"
   ]
  },
  {
   "cell_type": "code",
   "execution_count": null,
   "id": "858b98ae",
   "metadata": {},
   "outputs": [],
   "source": [
    "# Filter rows based on a condition.\n",
    "print(f\"Rows where Age is greater than 30:\\n{df[df['Age'] > 30]}\\n\")"
   ]
  },
  {
   "cell_type": "code",
   "execution_count": null,
   "id": "5c5c320c",
   "metadata": {
    "lines_to_next_cell": 2
   },
   "outputs": [],
   "source": [
    "# Filter with multiple conditions (& for AND, | for OR).\n",
    "print(f\"Rows where Age > 25 AND City is 'Chicago':\\n{df[(df['Age'] > 25) & (df['City'] == 'Chicago')]}\\n\")"
   ]
  },
  {
   "cell_type": "code",
   "execution_count": null,
   "id": "b34e24dc",
   "metadata": {},
   "outputs": [],
   "source": [
    "# ---------------------------------\n",
    "# Section 2.6: Handling Missing Data\n",
    "# ---------------------------------\n",
    "print(\"\\n# --- 2.6: Handling Missing Data --- #\\n\")\n",
    "data_missing = {'A': [1, 2, np.nan, 4], 'B': [5, np.nan, np.nan, 8], 'C': [10, 20, 30, 40]}\n",
    "df_missing = pd.DataFrame(data_missing)\n",
    "print(f\"DataFrame with missing values:\\n{df_missing}\\n\")"
   ]
  },
  {
   "cell_type": "code",
   "execution_count": null,
   "id": "7e0ccad8",
   "metadata": {},
   "outputs": [],
   "source": [
    "# .dropna(): Remove missing values.\n",
    "# `how='any'` drops a row/column if any of its values are NaN.\n",
    "print(f\"Dropping rows with any missing values:\\n{df_missing.dropna()}\\n\")"
   ]
  },
  {
   "cell_type": "code",
   "execution_count": null,
   "id": "8022556c",
   "metadata": {
    "lines_to_next_cell": 2
   },
   "outputs": [],
   "source": [
    "# .fillna(): Fill missing values with a specified value.\n",
    "print(f\"Filling missing values with the mean of column 'B':\\n{df_missing.fillna({'B': df_missing['B'].mean()})}\\n\")"
   ]
  },
  {
   "cell_type": "code",
   "execution_count": null,
   "id": "5485b4e8",
   "metadata": {},
   "outputs": [],
   "source": [
    "# ---------------------------------\n",
    "# Section 2.7: Grouping and Aggregation (Group By)\n",
    "# ---------------------------------\n",
    "print(\"\\n# --- 2.7: Grouping and Aggregation --- #\\n\")\n",
    "data_group = {'Team': ['A', 'B', 'A', 'B', 'A', 'B'],\n",
    "              'Player': ['P1', 'P2', 'P3', 'P4', 'P5', 'P6'],\n",
    "              'Points': [10, 12, 15, 18, 13, 9]}\n",
    "df_group = pd.DataFrame(data_group)\n",
    "print(f\"DataFrame for grouping:\\n{df_group}\\n\")"
   ]
  },
  {
   "cell_type": "code",
   "execution_count": null,
   "id": "487de94c",
   "metadata": {},
   "outputs": [],
   "source": [
    "# The \"group by\" process involves splitting the data into groups based on some criteria,\n",
    "# applying a function to each group independently, and combining the results into a data structure.\n",
    "# Here, we group by 'Team' and calculate the sum of 'Points' for each team.\n",
    "print(f\"Total points per team (grouped by 'Team' and summed):\\n{df_group.groupby('Team')['Points'].sum()}\\n\")"
   ]
  },
  {
   "cell_type": "code",
   "execution_count": null,
   "id": "af2f9d16",
   "metadata": {
    "lines_to_next_cell": 2
   },
   "outputs": [],
   "source": [
    "# We can apply multiple aggregation functions at once.\n",
    "print(f\"Mean and standard deviation of points per team:\\n{df_group.groupby('Team')['Points'].agg(['mean', 'std'])}\\n\")"
   ]
  },
  {
   "cell_type": "code",
   "execution_count": null,
   "id": "a2e96310",
   "metadata": {},
   "outputs": [],
   "source": [
    "# ---------------------------------\n",
    "# Section 2.8: Merging and Joining DataFrames\n",
    "# ---------------------------------\n",
    "print(\"\\n# --- 2.8: Merging and Joining DataFrames --- #\\n\")\n",
    "left_df = pd.DataFrame({'key': ['K0', 'K1', 'K2'], 'A': ['A0', 'A1', 'A2']})\n",
    "right_df = pd.DataFrame({'key': ['K0', 'K1', 'K3'], 'B': ['B0', 'B1', 'B3']})"
   ]
  },
  {
   "cell_type": "code",
   "execution_count": null,
   "id": "d89f12b7",
   "metadata": {},
   "outputs": [],
   "source": [
    "print(f\"Left DataFrame:\\n{left_df}\\n\")\n",
    "print(f\"Right DataFrame:\\n{right_df}\\n\")"
   ]
  },
  {
   "cell_type": "code",
   "execution_count": null,
   "id": "83688a12",
   "metadata": {},
   "outputs": [],
   "source": [
    "# pd.merge(): Connects rows in DataFrames based on one or more keys.\n",
    "# `how='inner'` (default) keeps only rows where the key exists in BOTH DataFrames.\n",
    "inner_merge = pd.merge(left_df, right_df, on='key', how='inner')\n",
    "print(f\"Inner merge on 'key':\\n{inner_merge}\\n\")"
   ]
  },
  {
   "cell_type": "code",
   "execution_count": null,
   "id": "11d2f05a",
   "metadata": {
    "lines_to_next_cell": 2
   },
   "outputs": [],
   "source": [
    "# `how='outer'` keeps all rows from both DataFrames.\n",
    "outer_merge = pd.merge(left_df, right_df, on='key', how='outer')\n",
    "print(f\"Outer merge on 'key':\\n{outer_merge}\\n\")"
   ]
  },
  {
   "cell_type": "markdown",
   "id": "77a29f27",
   "metadata": {
    "lines_to_next_cell": 2
   },
   "source": [
    "This concludes the detailed Pandas section."
   ]
  },
  {
   "cell_type": "markdown",
   "id": "bd08b9b8",
   "metadata": {},
   "source": [
    "=================================================================================================\n",
    "3. MATPLOTLIB\n",
    "=================================================================================================\n",
    "Matplotlib is a comprehensive library for creating static, animated, and interactive\n",
    "visualizations in Python. It's the foundation for many other plotting libraries."
   ]
  },
  {
   "cell_type": "code",
   "execution_count": null,
   "id": "68a92336",
   "metadata": {},
   "outputs": [],
   "source": [
    "print(\"\\n\" + \"=\"*20 + \" 3. MATPLOTLIB CHEAT SHEET \" + \"=\"*20 + \"\\n\")"
   ]
  },
  {
   "cell_type": "code",
   "execution_count": null,
   "id": "4506b414",
   "metadata": {},
   "outputs": [],
   "source": [
    "# ---------------------------------\n",
    "# Section 3.1: Basic Plotting\n",
    "# ---------------------------------\n",
    "print(\"# --- 3.1: Basic Plotting --- #\\n\")"
   ]
  },
  {
   "cell_type": "code",
   "execution_count": null,
   "id": "7ad87e19",
   "metadata": {},
   "outputs": [],
   "source": [
    "# Data for plotting\n",
    "x_data = np.linspace(0, 10, 100)\n",
    "y_data = np.sin(x_data)"
   ]
  },
  {
   "cell_type": "markdown",
   "id": "5540ea75",
   "metadata": {},
   "source": [
    "plt.figure(): Creates a new figure for the plot.\n",
    "plt.plot(): Plots y versus x as lines and/or markers.\n",
    "plt.title(), plt.xlabel(), plt.ylabel(): Add labels to the plot.\n",
    "plt.legend(): Adds a legend.\n",
    "plt.grid(): Adds a grid.\n",
    "plt.savefig(): Saves the figure to a file.\n",
    "plt.show(): Displays the figure. (Use in scripts; often not needed in notebooks).\n",
    "plt.close(): Closes the figure window to free up memory."
   ]
  },
  {
   "cell_type": "code",
   "execution_count": null,
   "id": "7a5b557e",
   "metadata": {
    "lines_to_next_cell": 2
   },
   "outputs": [],
   "source": [
    "print(\"# Example: A simple line plot\")\n",
    "plt.figure(figsize=(8, 5)) # Set figure size\n",
    "plt.plot(x_data, y_data, color='blue', linestyle='--', marker='o', markersize=4, label='sin(x)')\n",
    "plt.title(\"Simple Matplotlib Line Plot\")\n",
    "plt.xlabel(\"X-axis\")\n",
    "plt.ylabel(\"Y-axis\")\n",
    "plt.legend()\n",
    "plt.grid(True)\n",
    "plt.savefig(\"matplotlib_line_plot.png\")\n",
    "print(\"  -> Saved 'matplotlib_line_plot.png'\")\n",
    "plt.close() # Close the figure"
   ]
  },
  {
   "cell_type": "code",
   "execution_count": null,
   "id": "fc1f70b5",
   "metadata": {},
   "outputs": [],
   "source": [
    "# ---------------------------------\n",
    "# Section 3.2: Different Plot Types\n",
    "# ---------------------------------\n",
    "print(\"\\n# --- 3.2: Different Plot Types --- #\\n\")"
   ]
  },
  {
   "cell_type": "code",
   "execution_count": null,
   "id": "5a5d7792",
   "metadata": {},
   "outputs": [],
   "source": [
    "# --- Scatter Plot ---\n",
    "# Useful for visualizing the relationship between two numerical variables.\n",
    "print(\"# Example: A scatter plot\")\n",
    "x_scatter = np.random.rand(50) * 10\n",
    "y_scatter = np.random.rand(50) * 10\n",
    "colors = np.random.rand(50)\n",
    "sizes = 1000 * np.random.rand(50)"
   ]
  },
  {
   "cell_type": "code",
   "execution_count": null,
   "id": "50a43685",
   "metadata": {
    "lines_to_next_cell": 2
   },
   "outputs": [],
   "source": [
    "plt.figure(figsize=(8, 5))\n",
    "plt.scatter(x_scatter, y_scatter, c=colors, s=sizes, alpha=0.6, cmap='viridis')\n",
    "plt.colorbar(label='Color Intensity') # Add a color bar\n",
    "plt.title(\"Matplotlib Scatter Plot\")\n",
    "plt.savefig(\"matplotlib_scatter_plot.png\")\n",
    "print(\"  -> Saved 'matplotlib_scatter_plot.png'\")\n",
    "plt.close()"
   ]
  },
  {
   "cell_type": "code",
   "execution_count": null,
   "id": "777ef4e8",
   "metadata": {},
   "outputs": [],
   "source": [
    "# --- Bar Chart ---\n",
    "# Ideal for comparing categorical data.\n",
    "print(\"# Example: A bar chart\")\n",
    "categories = ['Category A', 'Category B', 'Category C']\n",
    "values = [7, 11, 5]"
   ]
  },
  {
   "cell_type": "code",
   "execution_count": null,
   "id": "0e8ffeaf",
   "metadata": {
    "lines_to_next_cell": 2
   },
   "outputs": [],
   "source": [
    "plt.figure(figsize=(8, 5))\n",
    "plt.bar(categories, values, color=['#1f77b4', '#ff7f0e', '#2ca02c'])\n",
    "plt.title(\"Matplotlib Bar Chart\")\n",
    "plt.ylabel(\"Count\")\n",
    "plt.savefig(\"matplotlib_bar_chart.png\")\n",
    "print(\"  -> Saved 'matplotlib_bar_chart.png'\")\n",
    "plt.close()"
   ]
  },
  {
   "cell_type": "code",
   "execution_count": null,
   "id": "2c76f084",
   "metadata": {},
   "outputs": [],
   "source": [
    "# --- Histogram ---\n",
    "# Shows the distribution of a single numerical variable.\n",
    "print(\"# Example: A histogram\")\n",
    "hist_data = np.random.randn(1000) # Sample data from a normal distribution"
   ]
  },
  {
   "cell_type": "code",
   "execution_count": null,
   "id": "e62cfd3e",
   "metadata": {
    "lines_to_next_cell": 2
   },
   "outputs": [],
   "source": [
    "plt.figure(figsize=(8, 5))\n",
    "plt.hist(hist_data, bins=30, color='skyblue', edgecolor='black')\n",
    "plt.title(\"Matplotlib Histogram\")\n",
    "plt.xlabel(\"Value\")\n",
    "plt.ylabel(\"Frequency\")\n",
    "plt.savefig(\"matplotlib_histogram.png\")\n",
    "print(\"  -> Saved 'matplotlib_histogram.png'\")\n",
    "plt.close()"
   ]
  },
  {
   "cell_type": "code",
   "execution_count": null,
   "id": "016e46db",
   "metadata": {},
   "outputs": [],
   "source": [
    "# ---------------------------------\n",
    "# Section 3.3: Subplots\n",
    "# ---------------------------------\n",
    "print(\"\\n# --- 3.3: Subplots --- #\\n\")"
   ]
  },
  {
   "cell_type": "code",
   "execution_count": null,
   "id": "e090e354",
   "metadata": {},
   "outputs": [],
   "source": [
    "# You can display multiple plots in one figure using subplots.\n",
    "# plt.subplots() is a convenient function that creates a figure and a grid of subplots.\n",
    "print(\"# Example: Creating a figure with 1 row and 2 columns of subplots\")\n",
    "fig, (ax1, ax2) = plt.subplots(1, 2, figsize=(12, 5))"
   ]
  },
  {
   "cell_type": "code",
   "execution_count": null,
   "id": "6f62a0cf",
   "metadata": {},
   "outputs": [],
   "source": [
    "# Plot on the first subplot (ax1)\n",
    "ax1.plot(x_data, y_data, color='red')\n",
    "ax1.set_title('First Subplot (sin(x))')\n",
    "ax1.grid(True)"
   ]
  },
  {
   "cell_type": "code",
   "execution_count": null,
   "id": "f48cc772",
   "metadata": {},
   "outputs": [],
   "source": [
    "# Plot on the second subplot (ax2)\n",
    "ax2.scatter(x_scatter, y_scatter, color='green')\n",
    "ax2.set_title('Second Subplot (Scatter)')"
   ]
  },
  {
   "cell_type": "code",
   "execution_count": null,
   "id": "1fbe1ffc",
   "metadata": {
    "lines_to_next_cell": 2
   },
   "outputs": [],
   "source": [
    "plt.suptitle(\"Matplotlib Subplots Example\") # Add a centered title to the figure\n",
    "plt.savefig(\"matplotlib_subplots.png\")\n",
    "print(\"  -> Saved 'matplotlib_subplots.png'\")\n",
    "plt.close()"
   ]
  },
  {
   "cell_type": "markdown",
   "id": "3fee127f",
   "metadata": {},
   "source": [
    "=================================================================================================\n",
    "4. SEABORN\n",
    "=================================================================================================\n",
    "Seaborn is a Python data visualization library based on Matplotlib. It provides a high-level\n",
    "interface for drawing attractive and informative statistical graphics. It often requires less\n",
    "code to create complex, aesthetically pleasing plots."
   ]
  },
  {
   "cell_type": "code",
   "execution_count": null,
   "id": "7d2d6751",
   "metadata": {},
   "outputs": [],
   "source": [
    "print(\"\\n\" + \"=\"*20 + \" 4. SEABORN CHEAT SHEET \" + \"=\"*20 + \"\\n\")"
   ]
  },
  {
   "cell_type": "code",
   "execution_count": null,
   "id": "f491a62c",
   "metadata": {
    "lines_to_next_cell": 2
   },
   "outputs": [],
   "source": [
    "# Seaborn works very well with Pandas DataFrames.\n",
    "# We'll use the built-in 'tips' dataset.\n",
    "tips = sns.load_dataset(\"tips\")\n",
    "print(\"Loaded 'tips' dataset for Seaborn examples:\\n\")\n",
    "print(tips.head())"
   ]
  },
  {
   "cell_type": "code",
   "execution_count": null,
   "id": "78d08873",
   "metadata": {},
   "outputs": [],
   "source": [
    "# ---------------------------------\n",
    "# Section 4.1: Distribution Plots\n",
    "# ---------------------------------\n",
    "print(\"\\n# --- 4.1: Distribution Plots --- #\\n\")"
   ]
  },
  {
   "cell_type": "code",
   "execution_count": null,
   "id": "fd95050f",
   "metadata": {},
   "outputs": [],
   "source": [
    "# --- Histogram (histplot) ---\n",
    "# Similar to Matplotlib's hist, but with added features like a KDE curve.\n",
    "print(\"# Example: A histogram of total bill amounts\")\n",
    "plt.figure(figsize=(8, 5))\n",
    "sns.histplot(data=tips, x=\"total_bill\", kde=True, bins=20)\n",
    "plt.title(\"Distribution of Total Bill Amounts\")\n",
    "plt.savefig(\"seaborn_histogram.png\")\n",
    "print(\"  -> Saved 'seaborn_histogram.png'\")\n",
    "plt.close()"
   ]
  },
  {
   "cell_type": "code",
   "execution_count": null,
   "id": "6757d133",
   "metadata": {
    "lines_to_next_cell": 2
   },
   "outputs": [],
   "source": [
    "# --- Box Plot (boxplot) ---\n",
    "# Shows the distribution of quantitative data in a way that facilitates comparisons between variables.\n",
    "# It displays the five-number summary: min, first quartile, median, third quartile, and max.\n",
    "print(\"# Example: A box plot showing total bill by day\")\n",
    "plt.figure(figsize=(8, 5))\n",
    "sns.boxplot(data=tips, x=\"day\", y=\"total_bill\", palette=\"pastel\")\n",
    "plt.title(\"Total Bill Distribution by Day\")\n",
    "plt.savefig(\"seaborn_boxplot.png\")\n",
    "print(\"  -> Saved 'seaborn_boxplot.png'\")\n",
    "plt.close()"
   ]
  },
  {
   "cell_type": "code",
   "execution_count": null,
   "id": "df206f6f",
   "metadata": {},
   "outputs": [],
   "source": [
    "# ---------------------------------\n",
    "# Section 4.2: Relational Plots\n",
    "# ---------------------------------\n",
    "print(\"\\n# --- 4.2: Relational Plots --- #\\n\")"
   ]
  },
  {
   "cell_type": "code",
   "execution_count": null,
   "id": "60d7bb86",
   "metadata": {
    "lines_to_next_cell": 2
   },
   "outputs": [],
   "source": [
    "# --- Scatter Plot (scatterplot) ---\n",
    "# The primary way to visualize the relationship between two numeric variables.\n",
    "# Seaborn makes it easy to add a third variable via color (hue), size, or style.\n",
    "print(\"# Example: A scatter plot of tip vs. total bill, colored by time of day\")\n",
    "plt.figure(figsize=(8, 5))\n",
    "sns.scatterplot(data=tips, x=\"total_bill\", y=\"tip\", hue=\"time\", style=\"smoker\", size=\"size\")\n",
    "plt.title(\"Tip Amount vs. Total Bill\")\n",
    "plt.legend(bbox_to_anchor=(1.05, 1), loc='upper left') # Move legend outside\n",
    "plt.tight_layout()\n",
    "plt.savefig(\"seaborn_scatterplot.png\")\n",
    "print(\"  -> Saved 'seaborn_scatterplot.png'\")\n",
    "plt.close()"
   ]
  },
  {
   "cell_type": "code",
   "execution_count": null,
   "id": "86bff4c9",
   "metadata": {},
   "outputs": [],
   "source": [
    "# ---------------------------------\n",
    "# Section 4.3: Categorical Plots\n",
    "# ---------------------------------\n",
    "print(\"\\n# --- 4.3: Categorical Plots --- #\\n\")"
   ]
  },
  {
   "cell_type": "code",
   "execution_count": null,
   "id": "0dd8c2aa",
   "metadata": {},
   "outputs": [],
   "source": [
    "# --- Count Plot (countplot) ---\n",
    "# A special kind of bar plot that shows the count of observations in each category.\n",
    "print(\"# Example: A count plot of smokers vs. non-smokers\")\n",
    "plt.figure(figsize=(8, 5))\n",
    "sns.countplot(data=tips, x=\"smoker\", palette=\"viridis\")\n",
    "plt.title(\"Count of Smokers vs. Non-Smokers\")\n",
    "plt.savefig(\"seaborn_countplot.png\")\n",
    "print(\"  -> Saved 'seaborn_countplot.png'\")\n",
    "plt.close()"
   ]
  },
  {
   "cell_type": "code",
   "execution_count": null,
   "id": "6f1d12f3",
   "metadata": {
    "lines_to_next_cell": 2
   },
   "outputs": [],
   "source": [
    "# --- Violin Plot (violinplot) ---\n",
    "# A combination of a box plot and a kernel density estimate (KDE). It shows the distribution\n",
    "# of the data and its probability density.\n",
    "print(\"# Example: A violin plot showing total bill by day\")\n",
    "plt.figure(figsize=(8, 5))\n",
    "sns.violinplot(data=tips, x=\"day\", y=\"total_bill\", hue=\"sex\", split=True, palette=\"muted\")\n",
    "plt.title(\"Distribution of Total Bill by Day and Sex\")\n",
    "plt.savefig(\"seaborn_violinplot.png\")\n",
    "print(\"  -> Saved 'seaborn_violinplot.png'\")\n",
    "plt.close()"
   ]
  },
  {
   "cell_type": "code",
   "execution_count": null,
   "id": "b15d0fd8",
   "metadata": {},
   "outputs": [],
   "source": [
    "# ---------------------------------\n",
    "# Section 4.4: Matrix and Grid Plots\n",
    "# ---------------------------------\n",
    "print(\"\\n# --- 4.4: Matrix and Grid Plots --- #\\n\")"
   ]
  },
  {
   "cell_type": "code",
   "execution_count": null,
   "id": "5b5be1e3",
   "metadata": {},
   "outputs": [],
   "source": [
    "# --- Heatmap ---\n",
    "# A graphical representation of data where values are depicted by color.\n",
    "print(\"# Example: A heatmap of flight passenger data\")\n",
    "flights = sns.load_dataset(\"flights\").pivot(\"month\", \"year\", \"passengers\")\n",
    "plt.figure(figsize=(10, 8))\n",
    "sns.heatmap(flights, annot=True, fmt=\"d\", cmap=\"YlGnBu\", linewidths=.5)\n",
    "plt.title(\"Heatmap of Monthly Flight Passengers\")\n",
    "plt.savefig(\"seaborn_heatmap.png\")\n",
    "print(\"  -> Saved 'seaborn_heatmap.png'\")\n",
    "plt.close()"
   ]
  },
  {
   "cell_type": "code",
   "execution_count": null,
   "id": "ffaf3501",
   "metadata": {},
   "outputs": [],
   "source": [
    "# --- Pair Plot (pairplot) ---\n",
    "# Creates a grid of scatter plots for each pair of numerical variables in a dataset.\n",
    "# The diagonal shows the distribution of each individual variable.\n",
    "print(\"# Example: A pair plot of the 'iris' dataset\")\n",
    "iris = sns.load_dataset(\"iris\")\n",
    "sns.pairplot(iris, hue=\"species\", palette=\"husl\", markers=[\"o\", \"s\", \"D\"])\n",
    "plt.savefig(\"seaborn_pairplot.png\")\n",
    "print(\"  -> Saved 'seaborn_pairplot.png'\")\n",
    "plt.close()"
   ]
  }
 ],
 "metadata": {
  "jupytext": {
   "cell_metadata_filter": "-all",
   "main_language": "python",
   "notebook_metadata_filter": "-all"
  }
 },
 "nbformat": 4,
 "nbformat_minor": 5
}
